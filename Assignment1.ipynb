{
 "cells": [
  {
   "cell_type": "code",
   "execution_count": 13,
   "metadata": {},
   "outputs": [
    {
     "name": "stdout",
     "output_type": "stream",
     "text": [
      "[30 31 32 33 34 35 36 37 38 39 40 41 42 43 44 45 46 47 48 49 50 51 52 53\n",
      " 54 55 56 57 58 59 60 61 62 63 64 65 66 67 68 69 70]\n"
     ]
    }
   ],
   "source": [
    "import numpy as np\n",
    "\n",
    "a = np.arange(30, 71, 1)\n",
    "print(a)\n"
   ]
  },
  {
   "cell_type": "markdown",
   "metadata": {},
   "source": [
    "***GENRATING RANDOM NUMBERS FROM A NORMAL DISTRIBUTION***"
   ]
  },
  {
   "cell_type": "code",
   "execution_count": 24,
   "metadata": {},
   "outputs": [
    {
     "data": {
      "text/plain": [
       "array([3.25781509, 5.00689953, 5.42652907, 5.95618973, 3.74484163,\n",
       "       5.24040715, 4.73587318, 6.48767172, 6.93972791, 1.59937928,\n",
       "       2.26871146, 1.26068635, 3.42925033, 2.85568135, 2.48888494])"
      ]
     },
     "execution_count": 24,
     "metadata": {},
     "output_type": "execute_result"
    }
   ],
   "source": [
    "from numpy import random\n",
    "random.normal(loc=[4], scale=2, size=15)\n"
   ]
  },
  {
   "cell_type": "markdown",
   "metadata": {},
   "source": [
    "***DOT PRODUCT***"
   ]
  },
  {
   "cell_type": "code",
   "execution_count": 28,
   "metadata": {},
   "outputs": [
    {
     "data": {
      "text/plain": [
       "18"
      ]
     },
     "execution_count": 28,
     "metadata": {},
     "output_type": "execute_result"
    }
   ],
   "source": [
    "a = np.array([2,3])\n",
    "b = np.array([3,4])\n",
    "\n",
    "a @ b    # @ is a short form of numpy.matmul\n"
   ]
  },
  {
   "cell_type": "markdown",
   "metadata": {},
   "source": [
    "***DETERMINANT***"
   ]
  },
  {
   "cell_type": "code",
   "execution_count": 31,
   "metadata": {},
   "outputs": [
    {
     "data": {
      "text/plain": [
       "-2.0"
      ]
     },
     "execution_count": 31,
     "metadata": {},
     "output_type": "execute_result"
    }
   ],
   "source": [
    "a = np.array([[2,3], [4, 5]])\n",
    "np.linalg.det(a)\n"
   ]
  },
  {
   "cell_type": "markdown",
   "metadata": {},
   "source": [
    "***CREATING 3x3x3 ARRAY***"
   ]
  },
  {
   "cell_type": "code",
   "execution_count": 52,
   "metadata": {},
   "outputs": [
    {
     "data": {
      "text/plain": [
       "array([[[0.79439801, 0.82632727, 0.9618586 ],\n",
       "        [0.25173082, 0.29102368, 0.9812042 ],\n",
       "        [0.62976629, 0.88201759, 0.50559251]],\n",
       "\n",
       "       [[0.06524435, 0.89646111, 0.70541473],\n",
       "        [0.35385001, 0.06833583, 0.54578071],\n",
       "        [0.68453264, 0.64820471, 0.69088978]],\n",
       "\n",
       "       [[0.46931374, 0.78923971, 0.32156594],\n",
       "        [0.21016594, 0.00548605, 0.67751366],\n",
       "        [0.75382673, 0.96327113, 0.66721294]]])"
      ]
     },
     "execution_count": 52,
     "metadata": {},
     "output_type": "execute_result"
    }
   ],
   "source": [
    "shape = (3,3,3)\n",
    "random_array = np.random.rand(3,3,3)\n",
    "random_array"
   ]
  },
  {
   "cell_type": "markdown",
   "metadata": {},
   "source": [
    "***FINDING MIN and MAX VALUES***"
   ]
  },
  {
   "cell_type": "code",
   "execution_count": 55,
   "metadata": {},
   "outputs": [
    {
     "name": "stdout",
     "output_type": "stream",
     "text": [
      "[[0.46035623 0.4411107  0.71803026 0.48312207 0.48296902]\n",
      " [0.76419849 0.55327631 0.14588091 0.25302085 0.67109984]\n",
      " [0.32247199 0.34498806 0.42378772 0.84211419 0.94452997]\n",
      " [0.80932548 0.97376083 0.76675563 0.34930315 0.3751737 ]\n",
      " [0.78158505 0.48629095 0.85710387 0.05691245 0.64584387]]\n",
      "0.056912450384121405\n",
      "0.9737608342379971\n"
     ]
    }
   ],
   "source": [
    "random_array = np.random.rand(5, 5)\n",
    "min_value = random_array.min()\n",
    "max_value = random_array.max()\n",
    "print (random_array)\n",
    "print(min_value)\n",
    "print(max_value)"
   ]
  },
  {
   "cell_type": "markdown",
   "metadata": {},
   "source": [
    "***FINDING MEAN, STD and VARIANCE***"
   ]
  },
  {
   "cell_type": "code",
   "execution_count": 56,
   "metadata": {},
   "outputs": [
    {
     "name": "stdout",
     "output_type": "stream",
     "text": [
      "Array:\n",
      "[[1 2 3]\n",
      " [4 5 6]\n",
      " [7 8 9]]\n",
      "Mean along the second axis: [2. 5. 8.]\n",
      "Standard deviation along the second axis: [0.81649658 0.81649658 0.81649658]\n",
      "Variance along the second axis: [0.66666667 0.66666667 0.66666667]\n"
     ]
    }
   ],
   "source": [
    "import numpy as np\n",
    "\n",
    "array = np.array([[1, 2, 3],\n",
    "                  [4, 5, 6],\n",
    "                  [7, 8, 9]])\n",
    "\n",
    "# Compute the mean along the second axis (axis=1)\n",
    "mean_values = np.mean(array, axis=1)\n",
    "\n",
    "std_values = np.std(array, axis=1)\n",
    "\n",
    "var_values = np.var(array, axis=1)\n",
    "\n",
    "print(\"Array:\")\n",
    "print(array)\n",
    "print(\"Mean along the second axis:\", mean_values)\n",
    "print(\"Standard deviation along the second axis:\", std_values)\n",
    "print(\"Variance along the second axis:\", var_values)\n"
   ]
  }
 ],
 "metadata": {
  "kernelspec": {
   "display_name": "base",
   "language": "python",
   "name": "python3"
  },
  "language_info": {
   "codemirror_mode": {
    "name": "ipython",
    "version": 3
   },
   "file_extension": ".py",
   "mimetype": "text/x-python",
   "name": "python",
   "nbconvert_exporter": "python",
   "pygments_lexer": "ipython3",
   "version": "3.11.3"
  }
 },
 "nbformat": 4,
 "nbformat_minor": 2
}
