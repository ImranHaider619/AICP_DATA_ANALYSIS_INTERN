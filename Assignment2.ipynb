{
 "cells": [
  {
   "cell_type": "code",
   "execution_count": 2,
   "metadata": {},
   "outputs": [
    {
     "name": "stdout",
     "output_type": "stream",
     "text": [
      "c    9\n",
      "e    7\n",
      "2    6\n",
      "x    4\n",
      "a    1\n",
      "Name: category_column, dtype: int64\n"
     ]
    }
   ],
   "source": [
    "import pandas as pd\n",
    "import numpy as np\n",
    "\n",
    "data = {\n",
    "    'category_column': ['a', 'x', 'x','x','x','c','c','c','c','c','c','c','c','c','2','2','2','2','2','2', 'e', 'e', 'e', 'e', 'e', 'e', 'e']\n",
    "}\n",
    "df = pd.DataFrame(data)\n",
    "category_counts = df['category_column'].value_counts()\n",
    "print(category_counts)"
   ]
  },
  {
   "cell_type": "code",
   "execution_count": 3,
   "metadata": {},
   "outputs": [
    {
     "data": {
      "text/plain": [
       "Bilal     42\n",
       "Ayesha    38\n",
       "Hadia     39\n",
       "dtype: int64"
      ]
     },
     "execution_count": 3,
     "metadata": {},
     "output_type": "execute_result"
    }
   ],
   "source": [
    "df = pd.Series(\n",
    "    {\n",
    "        \"Bilal\": 42,\n",
    "        \"Ayesha\": 38,\n",
    "        \"Hadia\": 39,\n",
    "    }\n",
    ")\n",
    "\n",
    "df"
   ]
  },
  {
   "cell_type": "code",
   "execution_count": 4,
   "metadata": {},
   "outputs": [
    {
     "name": "stdout",
     "output_type": "stream",
     "text": [
      "          day  temperature  windspeed  event\n",
      "0  01/01/2017           32          6   Rain\n",
      "1  01/02/2017           35          7  Sunny\n",
      "2  01/03/2017           28          2   Snow\n",
      "3  01/04/2017           24          7   Snow\n",
      "4  01/05/2017           32          4   Rain\n",
      "5  01/06/2017           31          2  Sunny\n"
     ]
    }
   ],
   "source": [
    "data = {\n",
    "    'day': ['01/01/2017', '01/02/2017', '01/03/2017', '01/04/2017', '01/05/2017', '01/06/2017'],\n",
    "    'temperature': [32, 35, 28, 24, 32, 31],\n",
    "    'windspeed': [6,7,2,7,4,2],\n",
    "    'event': ['Rain', 'Sunny', 'Snow', 'Snow', 'Rain', 'Sunny']\n",
    "}\n",
    "\n",
    "df = pd.DataFrame.from_dict(data)\n",
    "print(df)"
   ]
  },
  {
   "cell_type": "code",
   "execution_count": 5,
   "metadata": {},
   "outputs": [
    {
     "name": "stdout",
     "output_type": "stream",
     "text": [
      "          day  temperature  windspeed  event\n",
      "a  01/01/2017           32          6   Rain\n",
      "b  01/02/2017           35          7  Sunny\n",
      "c  01/03/2017           28          2   Snow\n",
      "d  01/04/2017           24          7   Snow\n",
      "e  01/05/2017           32          4   Rain\n",
      "f  01/06/2017           31          2  Sunny\n"
     ]
    }
   ],
   "source": [
    "custom_index = ['a', 'b', 'c', 'd', 'e', 'f']\n",
    "df.index = custom_index\n",
    "print(df)"
   ]
  },
  {
   "cell_type": "code",
   "execution_count": 6,
   "metadata": {},
   "outputs": [
    {
     "data": {
      "text/plain": [
       "count     6.000000\n",
       "mean     30.333333\n",
       "std       3.829708\n",
       "min      24.000000\n",
       "25%      28.750000\n",
       "50%      31.500000\n",
       "75%      32.000000\n",
       "max      35.000000\n",
       "Name: temperature, dtype: float64"
      ]
     },
     "execution_count": 6,
     "metadata": {},
     "output_type": "execute_result"
    }
   ],
   "source": [
    "\n",
    "df['temperature'].describe()\n"
   ]
  },
  {
   "cell_type": "code",
   "execution_count": 11,
   "metadata": {},
   "outputs": [
    {
     "name": "stdout",
     "output_type": "stream",
     "text": [
      "                                First Name                       Email  \\\n",
      "Sex    Job Title                                                         \n",
      "Female Phytotherapist              Phillip       bethany14@example.com   \n",
      "Male   Homeopath                  Kristine       bthompson@example.com   \n",
      "       Market researcher           Yesenia   kaitlinkaiser@example.com   \n",
      "       Waste management officer       Erin         tconner@example.org   \n",
      "Female Intelligence analyst      Katherine     conniecowan@example.com   \n",
      "...                                    ...                         ...   \n",
      "       Software engineer            Dennis         bmartin@example.org   \n",
      "       Barrister                     Steve       latasha46@example.net   \n",
      "Male   Police officer               Wesley        regina11@example.org   \n",
      "Female Broadcast journalist         Summer  alexiscantrell@example.org   \n",
      "Male   IT sales professional        Mariah       pcopeland@example.org   \n",
      "\n",
      "                                                 Phone  \n",
      "Sex    Job Title                                        \n",
      "Female Phytotherapist                214.112.6044x4913  \n",
      "Male   Homeopath                          277.609.7938  \n",
      "       Market researcher                  584.094.6111  \n",
      "       Waste management officer  001-171-649-9856x5553  \n",
      "Female Intelligence analyst      +1-773-151-6685x49162  \n",
      "...                                                ...  \n",
      "       Software engineer          001-095-524-2112x257  \n",
      "       Barrister                      001-865-478-5157  \n",
      "Male   Police officer               995-542-3004x76800  \n",
      "Female Broadcast journalist       001-273-685-6932x092  \n",
      "Male   IT sales professional       (341)594-6554x44657  \n",
      "\n",
      "[98 rows x 3 columns]\n"
     ]
    }
   ],
   "source": [
    "columns_to_read = [\"First Name\", \"Sex\", \"Email\", \"Phone\", \"Job Title\"]\n",
    "index_columns = [\"Sex\", \"Job Title\"]\n",
    "skip_rows = [1, 5]\n",
    "df = pd.read_csv('people.csv', usecols=columns_to_read, skiprows=skip_rows)\n",
    "df.set_index(index_columns, inplace=True)\n",
    "print(df)\n",
    "\n",
    "df.to_csv('NewPeople.csv')\n"
   ]
  },
  {
   "cell_type": "code",
   "execution_count": 19,
   "metadata": {},
   "outputs": [],
   "source": [
    "\n",
    "use_coloumns = [0, 3]\n",
    "skip_rows = [1]   # Row 2 is skipped \n",
    "df = pd.read_excel('SampleWork.xlsx', sheet_name=0, usecols=use_coloumns, skiprows=skip_rows, header=1)\n",
    "\n",
    "df.to_excel('NewSheet.xlsx', index=False)\n",
    "\n"
   ]
  },
  {
   "cell_type": "code",
   "execution_count": 50,
   "metadata": {},
   "outputs": [
    {
     "data": {
      "text/html": [
       "<div>\n",
       "<style scoped>\n",
       "    .dataframe tbody tr th:only-of-type {\n",
       "        vertical-align: middle;\n",
       "    }\n",
       "\n",
       "    .dataframe tbody tr th {\n",
       "        vertical-align: top;\n",
       "    }\n",
       "\n",
       "    .dataframe thead th {\n",
       "        text-align: right;\n",
       "    }\n",
       "</style>\n",
       "<table border=\"1\" class=\"dataframe\">\n",
       "  <thead>\n",
       "    <tr style=\"text-align: right;\">\n",
       "      <th></th>\n",
       "      <th>Age</th>\n",
       "      <th>Address</th>\n",
       "      <th>Qualification</th>\n",
       "      <th>Height</th>\n",
       "    </tr>\n",
       "    <tr>\n",
       "      <th>Name</th>\n",
       "      <th></th>\n",
       "      <th></th>\n",
       "      <th></th>\n",
       "      <th></th>\n",
       "    </tr>\n",
       "  </thead>\n",
       "  <tbody>\n",
       "    <tr>\n",
       "      <th>Sonia</th>\n",
       "      <td>27</td>\n",
       "      <td>Lahore</td>\n",
       "      <td>Msc</td>\n",
       "      <td>5.1</td>\n",
       "    </tr>\n",
       "    <tr>\n",
       "      <th>Hifza</th>\n",
       "      <td>22</td>\n",
       "      <td>Sialkot</td>\n",
       "      <td>MCA</td>\n",
       "      <td>5.1</td>\n",
       "    </tr>\n",
       "    <tr>\n",
       "      <th>Kabir</th>\n",
       "      <td>32</td>\n",
       "      <td>Peshawar</td>\n",
       "      <td>Phd</td>\n",
       "      <td>5.2</td>\n",
       "    </tr>\n",
       "    <tr>\n",
       "      <th>jazim</th>\n",
       "      <td>23</td>\n",
       "      <td>lhr</td>\n",
       "      <td>bsc</td>\n",
       "      <td>5.1</td>\n",
       "    </tr>\n",
       "  </tbody>\n",
       "</table>\n",
       "</div>"
      ],
      "text/plain": [
       "       Age   Address Qualification  Height\n",
       "Name                                      \n",
       "Sonia   27    Lahore           Msc     5.1\n",
       "Hifza   22   Sialkot           MCA     5.1\n",
       "Kabir   32  Peshawar           Phd     5.2\n",
       "jazim   23       lhr           bsc     5.1"
      ]
     },
     "execution_count": 50,
     "metadata": {},
     "output_type": "execute_result"
    }
   ],
   "source": [
    "data = {\n",
    "    \"Name\": [\"Sonia\", \"Bilal\", \"Hifza\", \"Kabir\", \"jazim\"],\n",
    "    \"Age\": [27, 24, 22, 32, 23],\n",
    "    \"Address\": [\"Lahore\", \"Karachi\", \"Sialkot\", \"Peshawar\", \"lhr\"],\n",
    "    \"Qualification\": [\"Msc\", \"MA\", \"MCA\", \"Phd\", \"bsc\"]\n",
    "}\n",
    "\n",
    "AICP_DF = pd.DataFrame(data)\n",
    "\n",
    "df1 = AICP_DF[['Name', 'Qualification']]\n",
    "\n",
    "AICP_DF['Height'] = [5.1, 6.2, 5.1, 5.2, 5.1]\n",
    "\n",
    "AICP_DF.set_index('Name', inplace=True)\n",
    "\n",
    "row_hifza = AICP_DF.loc['Hifza']\n",
    "\n",
    "row_3 = AICP_DF.iloc[3]\n",
    "\n",
    "AICP_DF.drop('Bilal', inplace=True)\n",
    "AICP_DF"
   ]
  }
 ],
 "metadata": {
  "kernelspec": {
   "display_name": "base",
   "language": "python",
   "name": "python3"
  },
  "language_info": {
   "codemirror_mode": {
    "name": "ipython",
    "version": 3
   },
   "file_extension": ".py",
   "mimetype": "text/x-python",
   "name": "python",
   "nbconvert_exporter": "python",
   "pygments_lexer": "ipython3",
   "version": "3.11.3"
  }
 },
 "nbformat": 4,
 "nbformat_minor": 2
}
